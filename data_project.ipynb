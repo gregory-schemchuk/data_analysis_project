{
 "cells": [
  {
   "cell_type": "markdown",
   "id": "1455fdeb",
   "metadata": {},
   "source": [
    "# Проект по анализу данных \"Кадровая аналитика: Проблема смены работы\""
   ]
  },
  {
   "cell_type": "markdown",
   "id": "41371716",
   "metadata": {},
   "source": [
    "#### Шемчук Григорий, 11-904"
   ]
  },
  {
   "cell_type": "markdown",
   "id": "a7202622",
   "metadata": {},
   "source": [
    "\n",
    "\n",
    "## Введение"
   ]
  },
  {
   "cell_type": "markdown",
   "id": "d29a7696",
   "metadata": {},
   "source": [
    "Проект по анализу данных потенциальных, действующих и бывших сотрудников различных компаний. Когда организация берет человека на стажировку, она хочет понимать, принесет ли он пользу компании в будущем, или например, просто использует курсы и стажировку как базу для наращивания опыта и последующего трудоустройства в другую фирму. Другими словами, задача стоит более детально оценить текучку компании. \n",
    "\n",
    "Задачи проекта:\n",
    "1. Построить инструмент, позволяющий предсказать, покинет ли потенциальный работник компанию по прошествии времени стажировки/более длительного времени\n",
    "2. Сравнить алгоритмы \"Дерево решений\" и \"Случайный лес\" в условиях создания данного инструмента\n",
    "3. (Дополнительно) Построить web интерфейс для удобного пользования инструментом (не реализовано)\n",
    "    \n",
    "С чем работаем:\n",
    "Данные более 19000 стажеров и абитурьентов, в которых есть как личностные поля (например, пол, город, уровень образования), так и данные самих компаний, в которых проводилась стажировка (например, количество сотрудников компании, тип компании и так далее)"
   ]
  },
  {
   "cell_type": "markdown",
   "id": "d9a3b7bb",
   "metadata": {},
   "source": [
    "## Смотрим данные"
   ]
  },
  {
   "cell_type": "code",
   "execution_count": 1,
   "id": "1a334ab2",
   "metadata": {},
   "outputs": [],
   "source": [
    "import numpy as np\n",
    "import pandas as pd\n",
    "\n",
    "import matplotlib.pyplot as plt"
   ]
  },
  {
   "cell_type": "code",
   "execution_count": 2,
   "id": "8a757d5a",
   "metadata": {},
   "outputs": [],
   "source": [
    "# Есть два набора - aug_train и aug_test\n",
    "# Но в aug_test нет проверочного поля target\n",
    "# Поэтому пользы он для нас не несет, будем использовать только aug_train (делим в пункте алгоритмов)\n",
    "# 80% - на обучение, 20% - на тест\n",
    "\n",
    "df = pd.read_csv('./data/aug_train.csv')"
   ]
  },
  {
   "cell_type": "code",
   "execution_count": 3,
   "id": "3e023259",
   "metadata": {},
   "outputs": [
    {
     "data": {
      "text/html": [
       "<div>\n",
       "<style scoped>\n",
       "    .dataframe tbody tr th:only-of-type {\n",
       "        vertical-align: middle;\n",
       "    }\n",
       "\n",
       "    .dataframe tbody tr th {\n",
       "        vertical-align: top;\n",
       "    }\n",
       "\n",
       "    .dataframe thead th {\n",
       "        text-align: right;\n",
       "    }\n",
       "</style>\n",
       "<table border=\"1\" class=\"dataframe\">\n",
       "  <thead>\n",
       "    <tr style=\"text-align: right;\">\n",
       "      <th></th>\n",
       "      <th>enrollee_id</th>\n",
       "      <th>city</th>\n",
       "      <th>city_development_index</th>\n",
       "      <th>gender</th>\n",
       "      <th>relevent_experience</th>\n",
       "      <th>enrolled_university</th>\n",
       "      <th>education_level</th>\n",
       "      <th>major_discipline</th>\n",
       "      <th>experience</th>\n",
       "      <th>company_size</th>\n",
       "      <th>company_type</th>\n",
       "      <th>last_new_job</th>\n",
       "      <th>training_hours</th>\n",
       "      <th>target</th>\n",
       "    </tr>\n",
       "  </thead>\n",
       "  <tbody>\n",
       "    <tr>\n",
       "      <th>0</th>\n",
       "      <td>8949</td>\n",
       "      <td>city_103</td>\n",
       "      <td>0.920</td>\n",
       "      <td>Male</td>\n",
       "      <td>Has relevent experience</td>\n",
       "      <td>no_enrollment</td>\n",
       "      <td>Graduate</td>\n",
       "      <td>STEM</td>\n",
       "      <td>&gt;20</td>\n",
       "      <td>NaN</td>\n",
       "      <td>NaN</td>\n",
       "      <td>1</td>\n",
       "      <td>36</td>\n",
       "      <td>1.0</td>\n",
       "    </tr>\n",
       "    <tr>\n",
       "      <th>1</th>\n",
       "      <td>29725</td>\n",
       "      <td>city_40</td>\n",
       "      <td>0.776</td>\n",
       "      <td>Male</td>\n",
       "      <td>No relevent experience</td>\n",
       "      <td>no_enrollment</td>\n",
       "      <td>Graduate</td>\n",
       "      <td>STEM</td>\n",
       "      <td>15</td>\n",
       "      <td>50-99</td>\n",
       "      <td>Pvt Ltd</td>\n",
       "      <td>&gt;4</td>\n",
       "      <td>47</td>\n",
       "      <td>0.0</td>\n",
       "    </tr>\n",
       "    <tr>\n",
       "      <th>2</th>\n",
       "      <td>11561</td>\n",
       "      <td>city_21</td>\n",
       "      <td>0.624</td>\n",
       "      <td>NaN</td>\n",
       "      <td>No relevent experience</td>\n",
       "      <td>Full time course</td>\n",
       "      <td>Graduate</td>\n",
       "      <td>STEM</td>\n",
       "      <td>5</td>\n",
       "      <td>NaN</td>\n",
       "      <td>NaN</td>\n",
       "      <td>never</td>\n",
       "      <td>83</td>\n",
       "      <td>0.0</td>\n",
       "    </tr>\n",
       "    <tr>\n",
       "      <th>3</th>\n",
       "      <td>33241</td>\n",
       "      <td>city_115</td>\n",
       "      <td>0.789</td>\n",
       "      <td>NaN</td>\n",
       "      <td>No relevent experience</td>\n",
       "      <td>NaN</td>\n",
       "      <td>Graduate</td>\n",
       "      <td>Business Degree</td>\n",
       "      <td>&lt;1</td>\n",
       "      <td>NaN</td>\n",
       "      <td>Pvt Ltd</td>\n",
       "      <td>never</td>\n",
       "      <td>52</td>\n",
       "      <td>1.0</td>\n",
       "    </tr>\n",
       "    <tr>\n",
       "      <th>4</th>\n",
       "      <td>666</td>\n",
       "      <td>city_162</td>\n",
       "      <td>0.767</td>\n",
       "      <td>Male</td>\n",
       "      <td>Has relevent experience</td>\n",
       "      <td>no_enrollment</td>\n",
       "      <td>Masters</td>\n",
       "      <td>STEM</td>\n",
       "      <td>&gt;20</td>\n",
       "      <td>50-99</td>\n",
       "      <td>Funded Startup</td>\n",
       "      <td>4</td>\n",
       "      <td>8</td>\n",
       "      <td>0.0</td>\n",
       "    </tr>\n",
       "  </tbody>\n",
       "</table>\n",
       "</div>"
      ],
      "text/plain": [
       "   enrollee_id      city  city_development_index gender  \\\n",
       "0         8949  city_103                   0.920   Male   \n",
       "1        29725   city_40                   0.776   Male   \n",
       "2        11561   city_21                   0.624    NaN   \n",
       "3        33241  city_115                   0.789    NaN   \n",
       "4          666  city_162                   0.767   Male   \n",
       "\n",
       "       relevent_experience enrolled_university education_level  \\\n",
       "0  Has relevent experience       no_enrollment        Graduate   \n",
       "1   No relevent experience       no_enrollment        Graduate   \n",
       "2   No relevent experience    Full time course        Graduate   \n",
       "3   No relevent experience                 NaN        Graduate   \n",
       "4  Has relevent experience       no_enrollment         Masters   \n",
       "\n",
       "  major_discipline experience company_size    company_type last_new_job  \\\n",
       "0             STEM        >20          NaN             NaN            1   \n",
       "1             STEM         15        50-99         Pvt Ltd           >4   \n",
       "2             STEM          5          NaN             NaN        never   \n",
       "3  Business Degree         <1          NaN         Pvt Ltd        never   \n",
       "4             STEM        >20        50-99  Funded Startup            4   \n",
       "\n",
       "   training_hours  target  \n",
       "0              36     1.0  \n",
       "1              47     0.0  \n",
       "2              83     0.0  \n",
       "3              52     1.0  \n",
       "4               8     0.0  "
      ]
     },
     "execution_count": 3,
     "metadata": {},
     "output_type": "execute_result"
    }
   ],
   "source": [
    "df.head()"
   ]
  },
  {
   "cell_type": "code",
   "execution_count": 4,
   "id": "23e7a03a",
   "metadata": {},
   "outputs": [
    {
     "name": "stdout",
     "output_type": "stream",
     "text": [
      "<class 'pandas.core.frame.DataFrame'>\n",
      "RangeIndex: 19158 entries, 0 to 19157\n",
      "Data columns (total 14 columns):\n",
      " #   Column                  Non-Null Count  Dtype  \n",
      "---  ------                  --------------  -----  \n",
      " 0   enrollee_id             19158 non-null  int64  \n",
      " 1   city                    19158 non-null  object \n",
      " 2   city_development_index  19158 non-null  float64\n",
      " 3   gender                  14650 non-null  object \n",
      " 4   relevent_experience     19158 non-null  object \n",
      " 5   enrolled_university     18772 non-null  object \n",
      " 6   education_level         18698 non-null  object \n",
      " 7   major_discipline        16345 non-null  object \n",
      " 8   experience              19093 non-null  object \n",
      " 9   company_size            13220 non-null  object \n",
      " 10  company_type            13018 non-null  object \n",
      " 11  last_new_job            18735 non-null  object \n",
      " 12  training_hours          19158 non-null  int64  \n",
      " 13  target                  19158 non-null  float64\n",
      "dtypes: float64(2), int64(2), object(10)\n",
      "memory usage: 2.0+ MB\n"
     ]
    }
   ],
   "source": [
    "# инфа\n",
    "df.info()"
   ]
  },
  {
   "cell_type": "code",
   "execution_count": 5,
   "id": "fa13105a",
   "metadata": {},
   "outputs": [
    {
     "data": {
      "text/html": [
       "<div>\n",
       "<style scoped>\n",
       "    .dataframe tbody tr th:only-of-type {\n",
       "        vertical-align: middle;\n",
       "    }\n",
       "\n",
       "    .dataframe tbody tr th {\n",
       "        vertical-align: top;\n",
       "    }\n",
       "\n",
       "    .dataframe thead th {\n",
       "        text-align: right;\n",
       "    }\n",
       "</style>\n",
       "<table border=\"1\" class=\"dataframe\">\n",
       "  <thead>\n",
       "    <tr style=\"text-align: right;\">\n",
       "      <th></th>\n",
       "      <th>count</th>\n",
       "      <th>mean</th>\n",
       "      <th>std</th>\n",
       "      <th>min</th>\n",
       "      <th>25%</th>\n",
       "      <th>50%</th>\n",
       "      <th>75%</th>\n",
       "      <th>max</th>\n",
       "    </tr>\n",
       "  </thead>\n",
       "  <tbody>\n",
       "    <tr>\n",
       "      <th>enrollee_id</th>\n",
       "      <td>19158.0</td>\n",
       "      <td>16875.358179</td>\n",
       "      <td>9616.292592</td>\n",
       "      <td>1.000</td>\n",
       "      <td>8554.25</td>\n",
       "      <td>16982.500</td>\n",
       "      <td>25169.75</td>\n",
       "      <td>33380.000</td>\n",
       "    </tr>\n",
       "    <tr>\n",
       "      <th>city_development_index</th>\n",
       "      <td>19158.0</td>\n",
       "      <td>0.828848</td>\n",
       "      <td>0.123362</td>\n",
       "      <td>0.448</td>\n",
       "      <td>0.74</td>\n",
       "      <td>0.903</td>\n",
       "      <td>0.92</td>\n",
       "      <td>0.949</td>\n",
       "    </tr>\n",
       "    <tr>\n",
       "      <th>training_hours</th>\n",
       "      <td>19158.0</td>\n",
       "      <td>65.366896</td>\n",
       "      <td>60.058462</td>\n",
       "      <td>1.000</td>\n",
       "      <td>23.00</td>\n",
       "      <td>47.000</td>\n",
       "      <td>88.00</td>\n",
       "      <td>336.000</td>\n",
       "    </tr>\n",
       "    <tr>\n",
       "      <th>target</th>\n",
       "      <td>19158.0</td>\n",
       "      <td>0.249348</td>\n",
       "      <td>0.432647</td>\n",
       "      <td>0.000</td>\n",
       "      <td>0.00</td>\n",
       "      <td>0.000</td>\n",
       "      <td>0.00</td>\n",
       "      <td>1.000</td>\n",
       "    </tr>\n",
       "  </tbody>\n",
       "</table>\n",
       "</div>"
      ],
      "text/plain": [
       "                          count          mean          std    min      25%  \\\n",
       "enrollee_id             19158.0  16875.358179  9616.292592  1.000  8554.25   \n",
       "city_development_index  19158.0      0.828848     0.123362  0.448     0.74   \n",
       "training_hours          19158.0     65.366896    60.058462  1.000    23.00   \n",
       "target                  19158.0      0.249348     0.432647  0.000     0.00   \n",
       "\n",
       "                              50%       75%        max  \n",
       "enrollee_id             16982.500  25169.75  33380.000  \n",
       "city_development_index      0.903      0.92      0.949  \n",
       "training_hours             47.000     88.00    336.000  \n",
       "target                      0.000      0.00      1.000  "
      ]
     },
     "execution_count": 5,
     "metadata": {},
     "output_type": "execute_result"
    }
   ],
   "source": [
    "# статистика по данным\n",
    "df.describe().T"
   ]
  },
  {
   "cell_type": "markdown",
   "id": "708c4cfd",
   "metadata": {},
   "source": [
    "## Смотрим, сколько хочет уйти"
   ]
  },
  {
   "cell_type": "code",
   "execution_count": 6,
   "id": "8c8075c1",
   "metadata": {},
   "outputs": [
    {
     "name": "stdout",
     "output_type": "stream",
     "text": [
      "0.0    75.065247\n",
      "1.0    24.934753\n",
      "Name: target, dtype: float64\n"
     ]
    }
   ],
   "source": [
    "print((df['target'].value_counts() / len(df))*100)"
   ]
  },
  {
   "cell_type": "code",
   "execution_count": 57,
   "id": "0285cb5d",
   "metadata": {},
   "outputs": [
    {
     "data": {
      "image/png": "[encoded data removed]",
      "text/plain": [
       "<Figure size 360x360 with 1 Axes>"
      ]
     },
     "metadata": {},
     "output_type": "display_data"
    }
   ],
   "source": [
    "sizes = list(df['target'].value_counts().sort_values().values)\n",
    "labels = ['wanna go', 'dont wanna go']\n",
    "\n",
    "plt.figure(figsize=(5,5))\n",
    "plt.pie(sizes, labels=labels)\n",
    "plt.title('Сколько хочет уйти', fontsize=18)\n",
    "plt.tight_layout()\n",
    "\n",
    "plt.show()"
   ]
  },
  {
   "cell_type": "markdown",
   "id": "8ceacc07",
   "metadata": {},
   "source": [
    "## Еще немного визуализации.."
   ]
  },
  {
   "cell_type": "code",
   "execution_count": 8,
   "id": "40bdc224",
   "metadata": {},
   "outputs": [
    {
     "data": {
      "text/plain": [
       "Text(0, 0.5, 'Кол-о')"
      ]
     },
     "execution_count": 8,
     "metadata": {},
     "output_type": "execute_result"
    },
    {
     "data": {
      "image/png": "[encoded data removed]",
      "text/plain": [
       "<Figure size 504x504 with 1 Axes>"
      ]
     },
     "metadata": {
      "needs_background": "light"
     },
     "output_type": "display_data"
    }
   ],
   "source": [
    "# Распределение по типу образования участников - \n",
    "# бОльшая часть получила техническое образование\n",
    "columns = df[\"major_discipline\"].unique()\n",
    "columns = [x for x in columns if str(x) != 'nan']\n",
    "sizes = list(df[\"major_discipline\"].value_counts().values)\n",
    "\n",
    "plt.figure(figsize=(7,7))\n",
    "plt.bar(columns, sizes)\n",
    "\n",
    "plt.title(\"Распределение по типу образования участников\")\n",
    "plt.xlabel(\"Тип обр\")\n",
    "plt.ylabel(\"Кол-о\")"
   ]
  },
  {
   "cell_type": "code",
   "execution_count": 9,
   "id": "48cadcfc",
   "metadata": {},
   "outputs": [
    {
     "data": {
      "text/plain": [
       "Text(0, 0.5, 'Кол-о')"
      ]
     },
     "execution_count": 9,
     "metadata": {},
     "output_type": "execute_result"
    },
    {
     "data": {
      "image/png": "[encoded data removed]",
      "text/plain": [
       "<Figure size 360x360 with 1 Axes>"
      ]
     },
     "metadata": {
      "needs_background": "light"
     },
     "output_type": "display_data"
    }
   ],
   "source": [
    "# Посмотрим распределение участников по гендеру\n",
    "columns = df[\"gender\"].unique()\n",
    "columns = [x for x in columns if str(x) != 'nan']\n",
    "sizes = list(df[\"gender\"].value_counts().values)\n",
    "\n",
    "plt.figure(figsize=(5,5))\n",
    "plt.bar(columns, sizes)\n",
    "\n",
    "plt.title(\"Распределение по гендеру\")\n",
    "plt.xlabel(\"Кто\")\n",
    "plt.ylabel(\"Кол-о\")"
   ]
  },
  {
   "cell_type": "code",
   "execution_count": 10,
   "id": "f4a359f5",
   "metadata": {},
   "outputs": [
    {
     "data": {
      "text/plain": [
       "Text(0, 0.5, 'Кол-о')"
      ]
     },
     "execution_count": 10,
     "metadata": {},
     "output_type": "execute_result"
    },
    {
     "data": {
      "image/png": "[encoded data removed]",
      "text/plain": [
       "<Figure size 360x360 with 1 Axes>"
      ]
     },
     "metadata": {
      "needs_background": "light"
     },
     "output_type": "display_data"
    }
   ],
   "source": [
    "# Посмотрим распределение по релевантному опыту -\n",
    "# как выясняется, большинство все же имеет \n",
    "columns = df[\"relevent_experience\"].unique()\n",
    "columns = [x for x in columns if str(x) != 'nan']\n",
    "sizes = list(df[\"relevent_experience\"].value_counts().values)\n",
    "\n",
    "plt.figure(figsize=(5,5))\n",
    "plt.bar(columns, sizes)\n",
    "\n",
    "plt.title(\"Распределение по релевантному опыту\")\n",
    "plt.xlabel(\"Есть?\")\n",
    "plt.ylabel(\"Кол-о\")"
   ]
  },
  {
   "cell_type": "code",
   "execution_count": 11,
   "id": "7df1146c",
   "metadata": {},
   "outputs": [
    {
     "data": {
      "text/plain": [
       "Text(0.5, 1.0, 'Завершенные учебные часы')"
      ]
     },
     "execution_count": 11,
     "metadata": {},
     "output_type": "execute_result"
    },
    {
     "data": {
      "image/png": "[encoded data removed]",
      "text/plain": [
       "<Figure size 504x432 with 1 Axes>"
      ]
     },
     "metadata": {},
     "output_type": "display_data"
    }
   ],
   "source": [
    "# Смотрим распределение по завершенным учебным часам - большинство заканчивают стажировку/тренинги на ~50 часах\n",
    "\n",
    "plt.style.use('fivethirtyeight')\n",
    "plt.figure(figsize=(7,6))\n",
    "plt.hist(df['training_hours'].dropna(), bins = 100, edgecolor = 'k')\n",
    "\n",
    "plt.xlabel('Часы') \n",
    "plt.ylabel('Сколько')\n",
    "plt.title('Завершенные учебные часы')"
   ]
  },
  {
   "cell_type": "markdown",
   "id": "b4544411",
   "metadata": {},
   "source": [
    "## Чистим данные"
   ]
  },
  {
   "cell_type": "code",
   "execution_count": 12,
   "id": "30dc13fb",
   "metadata": {},
   "outputs": [
    {
     "data": {
      "text/plain": [
       "enrollee_id                  0\n",
       "city                         0\n",
       "city_development_index       0\n",
       "gender                    4508\n",
       "relevent_experience          0\n",
       "enrolled_university        386\n",
       "education_level            460\n",
       "major_discipline          2813\n",
       "experience                  65\n",
       "company_size              5938\n",
       "company_type              6140\n",
       "last_new_job               423\n",
       "training_hours               0\n",
       "target                       0\n",
       "dtype: int64"
      ]
     },
     "execution_count": 12,
     "metadata": {},
     "output_type": "execute_result"
    }
   ],
   "source": [
    "# сколько есть пустоты\n",
    "df.isnull().sum()"
   ]
  },
  {
   "cell_type": "code",
   "execution_count": 13,
   "id": "7b9140cd",
   "metadata": {},
   "outputs": [
    {
     "data": {
      "text/plain": [
       "enrollee_id               0\n",
       "city                      0\n",
       "city_development_index    0\n",
       "gender                    0\n",
       "relevent_experience       0\n",
       "enrolled_university       0\n",
       "education_level           0\n",
       "major_discipline          0\n",
       "experience                0\n",
       "company_size              0\n",
       "company_type              0\n",
       "last_new_job              0\n",
       "training_hours            0\n",
       "target                    0\n",
       "dtype: int64"
      ]
     },
     "execution_count": 13,
     "metadata": {},
     "output_type": "execute_result"
    }
   ],
   "source": [
    "# Заменим nan на 0, таким образом, в перечеслениях (например, gender) они будут попадать в категорию Other\n",
    "# А в численных полях (например, experience), будут просто нулями\n",
    "\n",
    "for column in ['gender','enrolled_university','education_level','major_discipline', 'experience', 'company_size', 'company_type','last_new_job']:\n",
    "    df[column].fillna(0, inplace = True)\n",
    "    \n",
    "df.isnull().sum()"
   ]
  },
  {
   "cell_type": "code",
   "execution_count": 14,
   "id": "e2f0c28d",
   "metadata": {},
   "outputs": [
    {
     "data": {
      "text/plain": [
       "0"
      ]
     },
     "execution_count": 14,
     "metadata": {},
     "output_type": "execute_result"
    }
   ],
   "source": [
    "# Есть дубли? нет\n",
    "\n",
    "df.duplicated().sum()"
   ]
  },
  {
   "cell_type": "code",
   "execution_count": 15,
   "id": "7be1dd39",
   "metadata": {},
   "outputs": [],
   "source": [
    "# Ну и на последок удалим абсолютно ненужное поле с айдишником\n",
    "\n",
    "df = df.drop(columns = 'enrollee_id')"
   ]
  },
  {
   "cell_type": "markdown",
   "id": "22b6d55d",
   "metadata": {},
   "source": [
    "## Готовим данные к алгоритмам"
   ]
  },
  {
   "cell_type": "code",
   "execution_count": 16,
   "id": "35cc5a42",
   "metadata": {},
   "outputs": [],
   "source": [
    "# Кодируем гендер: 0 - женщина, 1 - мужчина, 2 - не определен..\n",
    "df[\"gender\"] = [ \n",
    "    0 if gender == \"Female\"\n",
    "    else 1 if gender == \"Male\"\n",
    "    else 2 for gender in df[\"gender\"]]"
   ]
  },
  {
   "cell_type": "code",
   "execution_count": 17,
   "id": "52671f51",
   "metadata": {},
   "outputs": [],
   "source": [
    "# Заменяем \"релевантный\" опыт на Boolean\n",
    "df = df.replace({'relevent_experience': { 'Has relevent experience': True, 'No relevent experience': False }})"
   ]
  },
  {
   "cell_type": "code",
   "execution_count": 18,
   "id": "55d3d499",
   "metadata": {},
   "outputs": [],
   "source": [
    "# Кодируем \"образование\": 0 - аналог Бакалавриата, 1 - аналог Магистратуры, 2 - \"Кандидат наук\"   \n",
    "df[\"education_level\"] = [ \n",
    "    0 if education_level  == \"Graduate\"\n",
    "    else 1 if education_level == \"Masters\"\n",
    "    else 2 for education_level in df[\"education_level\"]]"
   ]
  },
  {
   "cell_type": "code",
   "execution_count": 19,
   "id": "5d181e75",
   "metadata": {},
   "outputs": [],
   "source": [
    "# Кодируем \"поступление на курсы компании\": 0 - не поступил, 1 - полный курс, 2 - другое\n",
    "df[\"enrolled_university\"] = [ \n",
    "    0 if enrolled_university  == \"no_enrollment\"\n",
    "    else 1 if enrolled_university == \"Full time course\"\n",
    "    else 2 for enrolled_university in df[\"enrolled_university\"]]"
   ]
  },
  {
   "cell_type": "code",
   "execution_count": 20,
   "id": "f91ec802",
   "metadata": {},
   "outputs": [
    {
     "data": {
      "text/plain": [
       "103    4355\n",
       "21     2702\n",
       "16     1533\n",
       "114    1336\n",
       "160     845\n",
       "       ... \n",
       "129       3\n",
       "111       3\n",
       "121       3\n",
       "140       1\n",
       "171       1\n",
       "Name: city, Length: 123, dtype: int64"
      ]
     },
     "execution_count": 20,
     "metadata": {},
     "output_type": "execute_result"
    }
   ],
   "source": [
    "# переводим города из строк в цифры\n",
    "df['city'] = df['city'].str.replace('city_','')\n",
    "df[\"city\"] = df[\"city\"].apply(pd.to_numeric, downcast='integer')\n",
    "df['city'].value_counts()"
   ]
  },
  {
   "cell_type": "code",
   "execution_count": 21,
   "id": "f42e2df6",
   "metadata": {},
   "outputs": [
    {
     "data": {
      "text/plain": [
       "STEM               14492\n",
       "0                   2813\n",
       "Humanities           669\n",
       "Other                381\n",
       "Business Degree      327\n",
       "Arts                 253\n",
       "No Major             223\n",
       "Name: major_discipline, dtype: int64"
      ]
     },
     "execution_count": 21,
     "metadata": {},
     "output_type": "execute_result"
    }
   ],
   "source": [
    "#major_discipline \n",
    "df[\"major_discipline\"].value_counts()"
   ]
  },
  {
   "cell_type": "code",
   "execution_count": 22,
   "id": "03b3702d",
   "metadata": {},
   "outputs": [],
   "source": [
    "# Кодируем тип образования: 0 - техническое, 1 - общественные науки, 2 - бизнес, 3 - художество, 4 - нет, 5 - прочее \n",
    "df[\"major_discipline\"] = [ \n",
    "    0 if i == \"STEM\"\n",
    "    else 1 if i == \"Humanities\"\n",
    "    else 2 if i == \"Business Degree\"\n",
    "    else 3 if i == \"Arts\" \n",
    "    else 4 if i == \"No Major\" \n",
    "    else 5 for i in df[\"major_discipline\"]]"
   ]
  },
  {
   "cell_type": "code",
   "execution_count": 23,
   "id": "7cf9ed00",
   "metadata": {},
   "outputs": [
    {
     "data": {
      "text/plain": [
       "20.0    3434\n",
       "5.0     1430\n",
       "4.0     1403\n",
       "3.0     1354\n",
       "6.0     1216\n",
       "2.0     1127\n",
       "1.0     1071\n",
       "7.0     1028\n",
       "10.0     985\n",
       "9.0      980\n",
       "8.0      802\n",
       "15.0     686\n",
       "11.0     664\n",
       "14.0     586\n",
       "16.0     508\n",
       "12.0     494\n",
       "13.0     399\n",
       "17.0     342\n",
       "19.0     304\n",
       "18.0     280\n",
       "0.0       65\n",
       "Name: experience, dtype: int64"
      ]
     },
     "execution_count": 23,
     "metadata": {},
     "output_type": "execute_result"
    }
   ],
   "source": [
    "# Переводим опыт в цифру\n",
    "df[\"experience\"] = df[\"experience\"].str.replace('>', '')\n",
    "df[\"experience\"] = df[\"experience\"].str.replace('<', '')\n",
    "df[\"experience\"] = df[\"experience\"].apply(pd.to_numeric, downcast='float')\n",
    "df['experience'] = df['experience'].fillna(0)\n",
    "df['experience'].value_counts()"
   ]
  },
  {
   "cell_type": "code",
   "execution_count": 24,
   "id": "2cd5c25a",
   "metadata": {},
   "outputs": [
    {
     "data": {
      "text/plain": [
       "1.0    8040\n",
       "4.0    4319\n",
       "2.0    2900\n",
       "0.0    2875\n",
       "3.0    1024\n",
       "Name: last_new_job, dtype: int64"
      ]
     },
     "execution_count": 24,
     "metadata": {},
     "output_type": "execute_result"
    }
   ],
   "source": [
    "# Переводим \"когда последний раз менял работу\" в цифру\n",
    "# never - 0\n",
    "df[\"last_new_job\"] = df[\"last_new_job\"].str.replace('>', '')\n",
    "df[\"last_new_job\"] = df[\"last_new_job\"].str.replace('<', '')\n",
    "df[\"last_new_job\"] = df[\"last_new_job\"].str.replace('never', '0')\n",
    "df[\"last_new_job\"] = df[\"last_new_job\"].apply(pd.to_numeric, downcast='float')\n",
    "df['last_new_job'] = df['last_new_job'].fillna(0)\n",
    "df['last_new_job'].value_counts()"
   ]
  },
  {
   "cell_type": "code",
   "execution_count": 25,
   "id": "41793d10",
   "metadata": {},
   "outputs": [
    {
     "name": "stderr",
     "output_type": "stream",
     "text": [
      "C:\\Users\\schem\\AppData\\Local\\Temp/ipykernel_8224/192077953.py:4: FutureWarning: The default value of regex will change from True to False in a future version.\n",
      "  df[\"company_size\"] = df[\"company_size\"].str.replace(\"\\+\", '')\n"
     ]
    },
    {
     "data": {
      "text/plain": [
       "0.0        5938\n",
       "50.0       3083\n",
       "10.0       2779\n",
       "100.0      2571\n",
       "10000.0    2019\n",
       "1000.0     1328\n",
       "500.0       877\n",
       "5000.0      563\n",
       "Name: company_size, dtype: int64"
      ]
     },
     "execution_count": 25,
     "metadata": {},
     "output_type": "execute_result"
    }
   ],
   "source": [
    "# Переводим \"размер компании\", берем за значение минимально возможное кол-о сотрудников\n",
    "df[\"company_size\"] = df[\"company_size\"].str.split(\"-\").str.get(0)\n",
    "df[\"company_size\"] = df[\"company_size\"].str.split(\"/\").str.get(0)\n",
    "df[\"company_size\"] = df[\"company_size\"].str.replace(\"\\+\", '')\n",
    "df[\"company_size\"] = df[\"company_size\"].str.replace(\"<\", '')\n",
    "df[\"company_size\"] = df[\"company_size\"].str.replace(\">\", '')\n",
    "df[\"company_size\"] = df[\"company_size\"].apply(pd.to_numeric, downcast='float')\n",
    "df['company_size'] = df['company_size'].fillna(0)\n",
    "df['company_size'].value_counts()"
   ]
  },
  {
   "cell_type": "code",
   "execution_count": 26,
   "id": "533dff8c",
   "metadata": {},
   "outputs": [],
   "source": [
    "# Кодируем тип компании: 0 - стандарт, 1 - \"старый\" стартап, 2 - гос. орг., 3 - новый стартап, 4 - NGO, 5 - остальное \n",
    "df[\"company_type\"] = [ \n",
    "    0 if i == \"Pvt Ltd\"\n",
    "    else 1 if i == \"Funded Startup\"\n",
    "    else 2 if i == \"Public Sector\"\n",
    "    else 3 if i == \"Early Stage Startup\" \n",
    "    else 4 if i == \"NGO\" \n",
    "    else 5 for i in df[\"company_type\"]]"
   ]
  },
  {
   "cell_type": "markdown",
   "id": "8a90997d",
   "metadata": {},
   "source": [
    "# Применение алгоритмов"
   ]
  },
  {
   "cell_type": "code",
   "execution_count": 27,
   "id": "c60af48c",
   "metadata": {},
   "outputs": [],
   "source": [
    "# Сначала подготовим данные для обучения и для теста\n",
    "\n",
    "from sklearn.model_selection import train_test_split\n",
    "\n",
    "\n",
    "data = df.drop(columns = 'target')\n",
    "answers = df['target']\n",
    "\n",
    "data_train, data_test, answers_train, answers_test = train_test_split(data, answers, test_size = 0.2)"
   ]
  },
  {
   "cell_type": "markdown",
   "id": "6aedbc4e",
   "metadata": {},
   "source": [
    "## a) Простое дерево решений"
   ]
  },
  {
   "cell_type": "code",
   "execution_count": 36,
   "id": "6e8c9b6e",
   "metadata": {
    "scrolled": true
   },
   "outputs": [
    {
     "data": {
      "text/plain": [
       "DecisionTreeClassifier(max_depth=5, random_state=1)"
      ]
     },
     "execution_count": 36,
     "metadata": {},
     "output_type": "execute_result"
    }
   ],
   "source": [
    "# Для начала просто посмотрим стандартное дерево решений\n",
    "\n",
    "from sklearn.tree import DecisionTreeClassifier\n",
    "\n",
    "\n",
    "# Описание параметров: \n",
    "# criterion - тип функции для оценки качества разбиения, использую критерий Джини - вероятностный метод  \n",
    "# max_depth - максимально возможная глубина дерева\n",
    "# random_state - Контроль случайности оценки\n",
    "tree = DecisionTreeClassifier(criterion = 'gini', max_depth = 5, random_state = 1)\n",
    "tree.fit(data_train, answers_train)"
   ]
  },
  {
   "cell_type": "code",
   "execution_count": 37,
   "id": "ada6cb5d",
   "metadata": {},
   "outputs": [
    {
     "name": "stdout",
     "output_type": "stream",
     "text": [
      "Confusion matrix : \n",
      " [[ 552  416]\n",
      " [ 411 2453]]\n",
      "\n",
      "Accuracy =  0.7841858037578288\n"
     ]
    }
   ],
   "source": [
    "# Применяем \"Матрицу ошибок\" для просмотра результатов (и, конечно, вычислим Accuracy)\n",
    "\n",
    "from sklearn.metrics import confusion_matrix\n",
    "\n",
    "answers_predicted = tree.predict(data_test)\n",
    "\n",
    "matrix = confusion_matrix(answers_test, answers_predicted, labels=[1,0])\n",
    "print('Confusion matrix : \\n', matrix)\n",
    "\n",
    "accur = (matrix[0][0] + matrix[1][1]) / (matrix[0][0] + matrix[1][1] + matrix[0][1] + matrix[1][0])\n",
    "print('\\nAccuracy = ', accur)"
   ]
  },
  {
   "cell_type": "markdown",
   "id": "90850160",
   "metadata": {},
   "source": [
    "## b) Случайный лес"
   ]
  },
  {
   "cell_type": "code",
   "execution_count": 53,
   "id": "1e05fd28",
   "metadata": {},
   "outputs": [
    {
     "data": {
      "text/plain": [
       "RandomForestClassifier(max_depth=32, n_estimators=250)"
      ]
     },
     "execution_count": 53,
     "metadata": {},
     "output_type": "execute_result"
    }
   ],
   "source": [
    "# Теперь, рассмотрим решение на \"Случайном лесу\"\n",
    "\n",
    "from sklearn.ensemble import RandomForestClassifier\n",
    "\n",
    "\n",
    "# Описание параметров: \n",
    "# criterion - тип функции для оценки качества разбиения, использую критерий Джини - вероятностный метод  \n",
    "# n_estimators - количество деревьев в структуре\n",
    "# max_depth - максимально возможная глубина\n",
    "forest = RandomForestClassifier(criterion = \"gini\", max_depth = 32, n_estimators = 1250)\n",
    "\n",
    "forest.fit(data_train, answers_train)"
   ]
  },
  {
   "cell_type": "code",
   "execution_count": 54,
   "id": "bcd3c04d",
   "metadata": {},
   "outputs": [
    {
     "name": "stdout",
     "output_type": "stream",
     "text": [
      "Confusion matrix : \n",
      " [[ 487  481]\n",
      " [ 359 2505]]\n",
      "\n",
      "Accuracy =  0.7807933194154488\n"
     ]
    }
   ],
   "source": [
    "# Снова применяем \"Матрицу ошибок\" и вычисляем Accuracy\n",
    "\n",
    "answers_predicted = forest.predict(data_test)\n",
    "\n",
    "matrix = confusion_matrix(answers_test, answers_predicted, labels=[1,0])\n",
    "print('Confusion matrix : \\n', matrix)\n",
    "\n",
    "accur = (matrix[0][0] + matrix[1][1]) / (matrix[0][0] + matrix[1][1] + matrix[0][1] + matrix[1][0])\n",
    "print('\\nAccuracy = ', accur)"
   ]
  },
  {
   "cell_type": "markdown",
   "id": "f1f7cb82",
   "metadata": {},
   "source": [
    "## Вывод"
   ]
  },
  {
   "cell_type": "markdown",
   "id": "4c0f7212",
   "metadata": {},
   "source": [
    "Для достаточно простой задачи классификации работников по критерию \"желания уйти с работы\", нет особой разницы между использованием алгоритма дерева решений и случайного леса. \n",
    "\n",
    "Перечислим основные плюсы и минусы моделей:\n",
    "\n",
    "Дерево решений:\n",
    "* +) Легко визуализировать процесс принятия решения - может помочь выработать стратегию HR работникам / руководителям, например, для более бдительного внимания за сотрудниками/стажерами, у которых наблюдаются признаки \"желания уйти с работы\"\n",
    "* +) Простой и легкий, требует гораздо меньшего кол-а мощностей по сравнению с другой моделью\n",
    "* -) Может страдать от переобучения, которое, однако, в условиях нашей задачи, не грозит\n",
    "    \n",
    "Случайный лес:\n",
    "* +) Высокоточный и надежный метод, поскольку в процессе прогнозирования участвует множество деревьев решений\n",
    "* +) Не страдает проблемой переобучения\n",
    "* -) Очень медленный, особенно по сравнению с отдельным Деревом решений\n",
    "* -) Сложен в интерпритации\n",
    "    \n",
    "Таким образом, для нашей задачи больше подходит алгоритм \"Дерево решений\", так как при сравнительных результатах, он требует меньших мощностей, а еще с помощью него можно получить понятную интерпретацию процесса принятия решения "
   ]
  },
  {
   "cell_type": "code",
   "execution_count": null,
   "id": "4178dc6b",
   "metadata": {},
   "outputs": [],
   "source": []
  }
 ],
 "metadata": {
  "kernelspec": {
   "display_name": "Python 3 (ipykernel)",
   "language": "python",
   "name": "python3"
  },
  "language_info": {
   "codemirror_mode": {
    "name": "ipython",
    "version": 3
   },
   "file_extension": ".py",
   "mimetype": "text/x-python",
   "name": "python",
   "nbconvert_exporter": "python",
   "pygments_lexer": "ipython3",
   "version": "3.9.7"
  }
 },
 "nbformat": 4,
 "nbformat_minor": 5
}
